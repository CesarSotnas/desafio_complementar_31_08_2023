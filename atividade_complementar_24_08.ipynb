{
 "cells": [
  {
   "cell_type": "markdown",
   "metadata": {},
   "source": [
    "# Atividades para praticar"
   ]
  },
  {
   "cell_type": "markdown",
   "metadata": {},
   "source": [
    "##### 1 - Escreva um programa em Python que calcule o IMC de uma pessoa. O programa deve solicitar ao usuário o peso em Kg e altura em metros, em seguida, calcular e imprimir o valor do IMC."
   ]
  },
  {
   "cell_type": "code",
   "execution_count": null,
   "metadata": {},
   "outputs": [],
   "source": [
    "peso = int(input(\"Qual o seu peso? \"))\n",
    "altura = float(input(\"Qual a sua altura? \")) / 100\n",
    "imc = round(peso / (altura * altura), 2)\n",
    "\n",
    "if imc < 18.5:\n",
    "    print(f'Seu IMC é magreza: {imc}')\n",
    "\n",
    "elif imc < 24.9:\n",
    "    print(f'Seu IMC é normal: {imc}')\n",
    "\n",
    "elif imc < 29.9:\n",
    "    print(f'Seu IMC é sobrepeso: {imc}')\n",
    "\n",
    "elif imc < 39.9:\n",
    "    print(f'Seu IMC é obesidade: {imc}')\n",
    "\n",
    "else:\n",
    "    print(f'Seu IMC é obesidade grave: {imc}')\n"
   ]
  },
  {
   "cell_type": "markdown",
   "metadata": {},
   "source": [
    "##### 2 - Faça um programa que crie uma lista vazia e permita que o usuário insira 5 números inteiros na lista"
   ]
  },
  {
   "cell_type": "code",
   "execution_count": null,
   "metadata": {},
   "outputs": [],
   "source": [
    "lista = []\n",
    "\n",
    "for i in range(5):\n",
    "    valor = int(input(\"Insira um valor numérico:\"))\n",
    "    lista.append(valor)\n",
    "\n",
    "print(lista)"
   ]
  },
  {
   "cell_type": "markdown",
   "metadata": {},
   "source": [
    "##### 3 - Faça um programa que peça ao usuário para digitar uma lista de nomes separados por vírgula e transforme essa lista em uma lista de strings."
   ]
  },
  {
   "cell_type": "code",
   "execution_count": null,
   "metadata": {},
   "outputs": [],
   "source": [
    "nomes = input(\"Informe os nomes separados por vírgula: \")\n",
    "nomes_divididos = nomes.split(',')\n",
    "\n",
    "print(nomes_divididos)"
   ]
  }
 ],
 "metadata": {
  "kernelspec": {
   "display_name": "Python 3",
   "language": "python",
   "name": "python3"
  },
  "language_info": {
   "codemirror_mode": {
    "name": "ipython",
    "version": 3
   },
   "file_extension": ".py",
   "mimetype": "text/x-python",
   "name": "python",
   "nbconvert_exporter": "python",
   "pygments_lexer": "ipython3",
   "version": "3.10.7"
  },
  "orig_nbformat": 4
 },
 "nbformat": 4,
 "nbformat_minor": 2
}

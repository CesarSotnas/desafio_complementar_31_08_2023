{
 "cells": [
  {
   "cell_type": "markdown",
   "metadata": {},
   "source": [
    "### Criando um alerta com notification.notify()"
   ]
  },
  {
   "cell_type": "code",
   "execution_count": 23,
   "metadata": {},
   "outputs": [],
   "source": [
    "# Importando biblioteca\n",
    "from plyer import notification\n",
    "from datetime import datetime"
   ]
  },
  {
   "cell_type": "code",
   "execution_count": 47,
   "metadata": {},
   "outputs": [],
   "source": [
    "# Criando função e definindo valores\n",
    "def alerta(nivel, base, etapa):\n",
    "\n",
    "    data = datetime.today()\n",
    "    data = data.strftime('Data: %d-%m-%Y. Hora: %H:%M:%S')\n",
    "\n",
    "    if nivel == 1:\n",
    "        titulo = 'Alerta Baixo'\n",
    "\n",
    "    elif nivel == 2:\n",
    "        titulo = 'Alerta Médio'\n",
    "\n",
    "    elif nivel == 3:\n",
    "        titulo = 'Alerta Alto'\n",
    "\n",
    "    mensagem = f'Falha no carregamento da base {base} na etapa {etapa}. {data}'\n",
    "\n",
    "    notification.notify(title=titulo,\n",
    "                        message=mensagem,\n",
    "                        app_name='Alerta',\n",
    "                        timeout=10)\n"
   ]
  },
  {
   "cell_type": "markdown",
   "metadata": {},
   "source": [
    "##### chamando a função:"
   ]
  },
  {
   "cell_type": "code",
   "execution_count": 48,
   "metadata": {},
   "outputs": [],
   "source": [
    "alerta(2, 'Vendedores', 'Vendas')"
   ]
  },
  {
   "cell_type": "code",
   "execution_count": 49,
   "metadata": {},
   "outputs": [],
   "source": [
    "alerta(1, 'Clientes', 'Compras')"
   ]
  },
  {
   "cell_type": "code",
   "execution_count": 50,
   "metadata": {},
   "outputs": [],
   "source": [
    "alerta(3, 'Lojas', 'Promoções')"
   ]
  }
 ],
 "metadata": {
  "kernelspec": {
   "display_name": "Python 3",
   "language": "python",
   "name": "python3"
  },
  "language_info": {
   "codemirror_mode": {
    "name": "ipython",
    "version": 3
   },
   "file_extension": ".py",
   "mimetype": "text/x-python",
   "name": "python",
   "nbconvert_exporter": "python",
   "pygments_lexer": "ipython3",
   "version": "3.10.7"
  },
  "orig_nbformat": 4
 },
 "nbformat": 4,
 "nbformat_minor": 2
}
